{
 "cells": [
  {
   "cell_type": "code",
   "execution_count": 1,
   "metadata": {},
   "outputs": [
    {
     "data": {
      "text/plain": [
       "\" \\nThis notebook should be run after create_pubmed_db. It creates the neihgbor model that will be used\\nto match a user's query with the keywords existing in the database\\n\""
      ]
     },
     "execution_count": 1,
     "metadata": {},
     "output_type": "execute_result"
    }
   ],
   "source": [
    "''' \n",
    "This notebook should be run after create_pubmed_db. It creates the neihgbor model that will be used\n",
    "to match a user's query with the keywords existing in the database\n",
    "'''"
   ]
  },
  {
   "cell_type": "code",
   "execution_count": 2,
   "metadata": {},
   "outputs": [],
   "source": [
    "import requests\n",
    "from pymed import PubMed\n",
    "import pickle\n",
    "import time\n",
    "import numpy as np\n",
    "from sklearn.metrics.pairwise import cosine_similarity\n",
    "import random\n",
    "from sklearn.neighbors import NearestNeighbors\n",
    "import pandas as pd"
   ]
  },
  {
   "cell_type": "code",
   "execution_count": 3,
   "metadata": {},
   "outputs": [],
   "source": [
    "with open('dictionary.pkl','rb') as file:\n",
    "    dict_keywords = pickle.load(file)"
   ]
  },
  {
   "cell_type": "code",
   "execution_count": 4,
   "metadata": {},
   "outputs": [
    {
     "data": {
      "text/plain": [
       "NearestNeighbors(leaf_size=50, metric='manhattan', n_jobs=-1, n_neighbors=50)"
      ]
     },
     "execution_count": 4,
     "metadata": {},
     "output_type": "execute_result"
    }
   ],
   "source": [
    "from sklearn.neighbors import NearestNeighbors\n",
    "neigh = NearestNeighbors(n_neighbors=50,leaf_size=50,metric='manhattan',n_jobs=-1)\n",
    "X,X_keys = np.array([value['Embedding'] for value in dict_keywords.values()]),list(dict_keywords.keys())\n",
    "neigh.fit(X)\n"
   ]
  },
  {
   "cell_type": "code",
   "execution_count": 10,
   "metadata": {},
   "outputs": [],
   "source": [
    "with open('neighbor_model.pkl','wb') as file:\n",
    "    pickle.dump(neigh,file)"
   ]
  },
  {
   "cell_type": "code",
   "execution_count": 9,
   "metadata": {},
   "outputs": [
    {
     "name": "stdout",
     "output_type": "stream",
     "text": [
      "excessive daytime sleepiness | daytime sleepiness 57.81261426769197\n",
      "nurse | nurses 80.93963241452002\n",
      "pregnant women | pregnant mothers 50.34972033277154\n"
     ]
    }
   ],
   "source": [
    "key = 'excessive daytime sleepiness'\n",
    "value = dict_keywords[key]\n",
    "nearest_neighbor = neigh.kneighbors(value['Embedding'].reshape(1,-1))\n",
    "name_neighbor = X_keys[nearest_neighbor[1][0][1]]\n",
    "distance_neighbor = nearest_neighbor[0][0][1]\n",
    "print(key,'|',name_neighbor,distance_neighbor)\n",
    "\n",
    "key = 'nurse'\n",
    "value = dict_keywords[key]\n",
    "nearest_neighbor = neigh.kneighbors(value['Embedding'].reshape(1,-1))\n",
    "name_neighbor = X_keys[nearest_neighbor[1][0][1]]\n",
    "distance_neighbor = nearest_neighbor[0][0][1]\n",
    "print(key,'|',name_neighbor,distance_neighbor)\n",
    "\n",
    "key = 'pregnant women'\n",
    "value = dict_keywords[key]\n",
    "nearest_neighbor = neigh.kneighbors(value['Embedding'].reshape(1,-1))\n",
    "name_neighbor = X_keys[nearest_neighbor[1][0][1]]\n",
    "distance_neighbor = nearest_neighbor[0][0][1]\n",
    "print(key,'|',name_neighbor,distance_neighbor)"
   ]
  }
 ],
 "metadata": {
  "kernelspec": {
   "display_name": "Python 3",
   "language": "python",
   "name": "python3"
  },
  "language_info": {
   "codemirror_mode": {
    "name": "ipython",
    "version": 3
   },
   "file_extension": ".py",
   "mimetype": "text/x-python",
   "name": "python",
   "nbconvert_exporter": "python",
   "pygments_lexer": "ipython3",
   "version": "3.8.3"
  }
 },
 "nbformat": 4,
 "nbformat_minor": 4
}
